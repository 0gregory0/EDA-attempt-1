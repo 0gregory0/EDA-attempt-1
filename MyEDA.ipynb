{
 "cells": [
  {
   "cell_type": "code",
   "execution_count": 43,
   "metadata": {},
   "outputs": [],
   "source": [
    "import pandas as pd\n",
    "# pd.set_option('max columns', 20)"
   ]
  },
  {
   "attachments": {},
   "cell_type": "markdown",
   "metadata": {},
   "source": [
    "# 1. IT Salary Survey EU 2018\n",
    "Read the CSV file using pandas"
   ]
  },
  {
   "cell_type": "code",
   "execution_count": 44,
   "metadata": {},
   "outputs": [],
   "source": [
    "df_2018 = pd.read_csv(\"IT Salary Survey EU 2018.csv\")"
   ]
  },
  {
   "attachments": {},
   "cell_type": "markdown",
   "metadata": {},
   "source": [
    "## 1. Understanding the data\n",
    "* **Shape** \n",
    "    * ```df.shape``` - tuple that tells us the size of our data frame. Row * Column (Like the order of a matrix)\n",
    "* **Row Analysis** \n",
    "    * ```df.head()``` - function that shows the first 5 rows\n",
    "    * ```df.tail()``` - function that shows the last 5 rows\n",
    "* **Column Analysis** \n",
    "    * ```df.columns``` - used to list all the columns\n",
    "    * ```df.dtypes``` - determines the data types of all the columns\n",
    "    * ```df.describe``` - my favorite! Gives small numeric data or statistics about the columns"
   ]
  },
  {
   "attachments": {},
   "cell_type": "markdown",
   "metadata": {},
   "source": [
    "1. Find out the shape of the data frame"
   ]
  },
  {
   "cell_type": "code",
   "execution_count": 45,
   "metadata": {},
   "outputs": [
    {
     "name": "stdout",
     "output_type": "stream",
     "text": [
      "(765, 14)\n"
     ]
    }
   ],
   "source": [
    "print(df_2018.shape)"
   ]
  },
  {
   "attachments": {},
   "cell_type": "markdown",
   "metadata": {},
   "source": [
    "2. As we can see from the shape, we have 14 columns. What are they?"
   ]
  },
  {
   "cell_type": "code",
   "execution_count": 46,
   "metadata": {},
   "outputs": [
    {
     "name": "stdout",
     "output_type": "stream",
     "text": [
      "Index(['Timestamp', 'Age', 'Gender', 'City', 'Position', 'Years of experience',\n",
      "       'Your level', 'Current Salary', 'Salary one year ago',\n",
      "       'Salary two years ago', 'Are you getting any Stock Options?',\n",
      "       'Main language at work', 'Company size', 'Company type'],\n",
      "      dtype='object')\n"
     ]
    }
   ],
   "source": [
    "print(df_2018.columns)"
   ]
  },
  {
   "attachments": {},
   "cell_type": "markdown",
   "metadata": {},
   "source": [
    "3. Determine the data type of the columns"
   ]
  },
  {
   "cell_type": "code",
   "execution_count": 47,
   "metadata": {},
   "outputs": [
    {
     "name": "stdout",
     "output_type": "stream",
     "text": [
      "Timestamp                              object\n",
      "Age                                   float64\n",
      "Gender                                 object\n",
      "City                                   object\n",
      "Position                               object\n",
      "Years of experience                   float64\n",
      "Your level                             object\n",
      "Current Salary                        float64\n",
      "Salary one year ago                   float64\n",
      "Salary two years ago                  float64\n",
      "Are you getting any Stock Options?     object\n",
      "Main language at work                  object\n",
      "Company size                           object\n",
      "Company type                           object\n",
      "dtype: object\n"
     ]
    }
   ],
   "source": [
    "print(df_2018.dtypes)"
   ]
  },
  {
   "attachments": {},
   "cell_type": "markdown",
   "metadata": {},
   "source": [
    "4. Get insights on the numeric data/statistics about the columns"
   ]
  },
  {
   "cell_type": "code",
   "execution_count": 48,
   "metadata": {},
   "outputs": [
    {
     "data": {
      "text/html": [
       "<div>\n",
       "<style scoped>\n",
       "    .dataframe tbody tr th:only-of-type {\n",
       "        vertical-align: middle;\n",
       "    }\n",
       "\n",
       "    .dataframe tbody tr th {\n",
       "        vertical-align: top;\n",
       "    }\n",
       "\n",
       "    .dataframe thead th {\n",
       "        text-align: right;\n",
       "    }\n",
       "</style>\n",
       "<table border=\"1\" class=\"dataframe\">\n",
       "  <thead>\n",
       "    <tr style=\"text-align: right;\">\n",
       "      <th></th>\n",
       "      <th>Age</th>\n",
       "      <th>Years of experience</th>\n",
       "      <th>Current Salary</th>\n",
       "      <th>Salary one year ago</th>\n",
       "      <th>Salary two years ago</th>\n",
       "    </tr>\n",
       "  </thead>\n",
       "  <tbody>\n",
       "    <tr>\n",
       "      <th>count</th>\n",
       "      <td>672.000000</td>\n",
       "      <td>732.000000</td>\n",
       "      <td>750.000000</td>\n",
       "      <td>596.000000</td>\n",
       "      <td>463.000000</td>\n",
       "    </tr>\n",
       "    <tr>\n",
       "      <th>mean</th>\n",
       "      <td>32.183036</td>\n",
       "      <td>8.548497</td>\n",
       "      <td>68381.765333</td>\n",
       "      <td>62187.278523</td>\n",
       "      <td>58013.475162</td>\n",
       "    </tr>\n",
       "    <tr>\n",
       "      <th>std</th>\n",
       "      <td>5.107268</td>\n",
       "      <td>4.729557</td>\n",
       "      <td>21196.306557</td>\n",
       "      <td>20163.008663</td>\n",
       "      <td>20413.048908</td>\n",
       "    </tr>\n",
       "    <tr>\n",
       "      <th>min</th>\n",
       "      <td>21.000000</td>\n",
       "      <td>0.000000</td>\n",
       "      <td>10300.000000</td>\n",
       "      <td>10001.000000</td>\n",
       "      <td>10001.000000</td>\n",
       "    </tr>\n",
       "    <tr>\n",
       "      <th>25%</th>\n",
       "      <td>29.000000</td>\n",
       "      <td>5.000000</td>\n",
       "      <td>57000.000000</td>\n",
       "      <td>52000.000000</td>\n",
       "      <td>48000.000000</td>\n",
       "    </tr>\n",
       "    <tr>\n",
       "      <th>50%</th>\n",
       "      <td>32.000000</td>\n",
       "      <td>8.000000</td>\n",
       "      <td>65000.000000</td>\n",
       "      <td>60000.000000</td>\n",
       "      <td>56000.000000</td>\n",
       "    </tr>\n",
       "    <tr>\n",
       "      <th>75%</th>\n",
       "      <td>35.000000</td>\n",
       "      <td>11.000000</td>\n",
       "      <td>75000.000000</td>\n",
       "      <td>70000.000000</td>\n",
       "      <td>67000.000000</td>\n",
       "    </tr>\n",
       "    <tr>\n",
       "      <th>max</th>\n",
       "      <td>60.000000</td>\n",
       "      <td>38.000000</td>\n",
       "      <td>200000.000000</td>\n",
       "      <td>200000.000000</td>\n",
       "      <td>150000.000000</td>\n",
       "    </tr>\n",
       "  </tbody>\n",
       "</table>\n",
       "</div>"
      ],
      "text/plain": [
       "              Age  Years of experience  Current Salary  Salary one year ago  \\\n",
       "count  672.000000           732.000000      750.000000           596.000000   \n",
       "mean    32.183036             8.548497    68381.765333         62187.278523   \n",
       "std      5.107268             4.729557    21196.306557         20163.008663   \n",
       "min     21.000000             0.000000    10300.000000         10001.000000   \n",
       "25%     29.000000             5.000000    57000.000000         52000.000000   \n",
       "50%     32.000000             8.000000    65000.000000         60000.000000   \n",
       "75%     35.000000            11.000000    75000.000000         70000.000000   \n",
       "max     60.000000            38.000000   200000.000000        200000.000000   \n",
       "\n",
       "       Salary two years ago  \n",
       "count            463.000000  \n",
       "mean           58013.475162  \n",
       "std            20413.048908  \n",
       "min            10001.000000  \n",
       "25%            48000.000000  \n",
       "50%            56000.000000  \n",
       "75%            67000.000000  \n",
       "max           150000.000000  "
      ]
     },
     "execution_count": 48,
     "metadata": {},
     "output_type": "execute_result"
    }
   ],
   "source": [
    "df_2018.describe()"
   ]
  },
  {
   "attachments": {},
   "cell_type": "markdown",
   "metadata": {},
   "source": [
    "Print the first and last 5 lines of the csv data to know the size of the data we're working with"
   ]
  },
  {
   "cell_type": "code",
   "execution_count": 49,
   "metadata": {},
   "outputs": [
    {
     "name": "stdout",
     "output_type": "stream",
     "text": [
      "             Timestamp   Age Gender     City                       Position  \\\n",
      "0  14/12/2018 12:41:33  43.0      M  München                   QA Ingenieur   \n",
      "1  14/12/2018 12:42:09  33.0      F  München  Senior PHP Magento developer    \n",
      "2  14/12/2018 12:47:36  32.0      M  München              Software Engineer   \n",
      "3  14/12/2018 12:50:15  25.0      M  München      Senior Frontend Developer   \n",
      "4  14/12/2018 12:50:31  39.0      M  München                    UX Designer   \n",
      "\n",
      "   Years of experience Your level  Current Salary  Salary one year ago  \\\n",
      "0                 11.0     Senior         77000.0              76200.0   \n",
      "1                  8.0     Senior         65000.0              55000.0   \n",
      "2                 10.0     Senior         88000.0              73000.0   \n",
      "3                  6.0     Senior         78000.0              55000.0   \n",
      "4                 10.0     Senior         69000.0              60000.0   \n",
      "\n",
      "   Salary two years ago Are you getting any Stock Options?  \\\n",
      "0               68000.0                                 No   \n",
      "1               55000.0                                 No   \n",
      "2               54000.0                                 No   \n",
      "3               45000.0                                Yes   \n",
      "4               52000.0                                 No   \n",
      "\n",
      "  Main language at work Company size   Company type  \n",
      "0               Deutsch     100-1000        Product  \n",
      "1               Deutsch       50-100        Product  \n",
      "2               Deutsch        1000+        Product  \n",
      "3               English        1000+        Product  \n",
      "4               English     100-1000  Ecom retailer  \n"
     ]
    }
   ],
   "source": [
    "# First 5\n",
    "print(df_2018.head())"
   ]
  },
  {
   "cell_type": "code",
   "execution_count": 50,
   "metadata": {},
   "outputs": [
    {
     "name": "stdout",
     "output_type": "stream",
     "text": [
      "               Timestamp   Age Gender     City               Position  \\\n",
      "760  03/06/2020 20:12:51  40.0      M     Köln  Java Developer junior   \n",
      "761  28/07/2020 04:03:13   NaN      M     Köln      E.g. C# Developer   \n",
      "762  28/07/2020 04:03:20   NaN      M     Köln      E.g. C# Developer   \n",
      "763  26/08/2020 09:06:44   NaN    NaN      NaN                    NaN   \n",
      "764  21/09/2020 01:47:10  31.0      F  München                    Pm    \n",
      "\n",
      "     Years of experience Your level  Current Salary  Salary one year ago  \\\n",
      "760                  1.0     Junior         44000.0              40000.0   \n",
      "761                  1.0     Junior         45000.0              40000.0   \n",
      "762                  1.0     Junior         45000.0              40000.0   \n",
      "763                  NaN        NaN             NaN                  NaN   \n",
      "764                 10.0     Senior        110000.0                  NaN   \n",
      "\n",
      "     Salary two years ago Are you getting any Stock Options?  \\\n",
      "760               40000.0                                Yes   \n",
      "761               40000.0                                Yes   \n",
      "762               40000.0                                Yes   \n",
      "763                   NaN                                NaN   \n",
      "764                   NaN                                 No   \n",
      "\n",
      "    Main language at work Company size Company type  \n",
      "760               Deutsch        10-50      Product  \n",
      "761               Deutsch        10-50      Product  \n",
      "762               Deutsch        10-50      Product  \n",
      "763                   NaN          NaN          NaN  \n",
      "764               English        1000+      Product  \n"
     ]
    }
   ],
   "source": [
    "# Last 5\n",
    "print(df_2018.tail())"
   ]
  },
  {
   "attachments": {},
   "cell_type": "markdown",
   "metadata": {},
   "source": [
    "Since our first entry is at index 0, we have 764 entries in total."
   ]
  }
 ],
 "metadata": {
  "kernelspec": {
   "display_name": "Python 3",
   "language": "python",
   "name": "python3"
  },
  "language_info": {
   "codemirror_mode": {
    "name": "ipython",
    "version": 3
   },
   "file_extension": ".py",
   "mimetype": "text/x-python",
   "name": "python",
   "nbconvert_exporter": "python",
   "pygments_lexer": "ipython3",
   "version": "3.11.2"
  },
  "orig_nbformat": 4,
  "vscode": {
   "interpreter": {
    "hash": "74cc819deff76c29e4928f7ff26e3eddcbba8fed33adfaaa19de16534a73accc"
   }
  }
 },
 "nbformat": 4,
 "nbformat_minor": 2
}

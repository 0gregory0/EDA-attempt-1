{
 "cells": [
  {
   "cell_type": "code",
   "execution_count": 33,
   "metadata": {},
   "outputs": [],
   "source": [
    "import pandas as pd\n",
    "# pd.set_option('max columns', 20)"
   ]
  },
  {
   "attachments": {},
   "cell_type": "markdown",
   "metadata": {},
   "source": [
    "# IT Salary Survey EU 2018\n",
    "## 1. Read CSV file"
   ]
  },
  {
   "cell_type": "code",
   "execution_count": 34,
   "metadata": {},
   "outputs": [],
   "source": [
    "df_2018 = pd.read_csv(\"IT Salary Survey EU 2018.csv\")"
   ]
  },
  {
   "attachments": {},
   "cell_type": "markdown",
   "metadata": {},
   "source": [
    "## i. Data Understanding\n",
    "* **Shape** ```df.shape``` - tells us the size of our data frame. Row * Column (Like the order of a matrix)\n",
    "* **Head & Tail** ```df.head()```, ```df.tail()``` - shows us the first/last 5 rows of data\n",
    "* **Columns** ```df.columns()``` - used to list all the columns"
   ]
  },
  {
   "cell_type": "code",
   "execution_count": 35,
   "metadata": {},
   "outputs": [
    {
     "name": "stdout",
     "output_type": "stream",
     "text": [
      "(765, 14)\n"
     ]
    }
   ],
   "source": [
    "print(df_2018.shape)"
   ]
  },
  {
   "attachments": {},
   "cell_type": "markdown",
   "metadata": {},
   "source": [
    "Print the first and last 5 lines of the csv data to know the size of the data we're working with"
   ]
  },
  {
   "cell_type": "code",
   "execution_count": 36,
   "metadata": {},
   "outputs": [
    {
     "name": "stdout",
     "output_type": "stream",
     "text": [
      "             Timestamp   Age Gender     City                       Position  \\\n",
      "0  14/12/2018 12:41:33  43.0      M  München                   QA Ingenieur   \n",
      "1  14/12/2018 12:42:09  33.0      F  München  Senior PHP Magento developer    \n",
      "2  14/12/2018 12:47:36  32.0      M  München              Software Engineer   \n",
      "3  14/12/2018 12:50:15  25.0      M  München      Senior Frontend Developer   \n",
      "4  14/12/2018 12:50:31  39.0      M  München                    UX Designer   \n",
      "\n",
      "   Years of experience Your level  Current Salary  Salary one year ago  \\\n",
      "0                 11.0     Senior         77000.0              76200.0   \n",
      "1                  8.0     Senior         65000.0              55000.0   \n",
      "2                 10.0     Senior         88000.0              73000.0   \n",
      "3                  6.0     Senior         78000.0              55000.0   \n",
      "4                 10.0     Senior         69000.0              60000.0   \n",
      "\n",
      "   Salary two years ago Are you getting any Stock Options?  \\\n",
      "0               68000.0                                 No   \n",
      "1               55000.0                                 No   \n",
      "2               54000.0                                 No   \n",
      "3               45000.0                                Yes   \n",
      "4               52000.0                                 No   \n",
      "\n",
      "  Main language at work Company size   Company type  \n",
      "0               Deutsch     100-1000        Product  \n",
      "1               Deutsch       50-100        Product  \n",
      "2               Deutsch        1000+        Product  \n",
      "3               English        1000+        Product  \n",
      "4               English     100-1000  Ecom retailer  \n"
     ]
    }
   ],
   "source": [
    "# First 5\n",
    "print(df_2018.head())"
   ]
  },
  {
   "cell_type": "code",
   "execution_count": 37,
   "metadata": {},
   "outputs": [
    {
     "name": "stdout",
     "output_type": "stream",
     "text": [
      "               Timestamp   Age Gender     City               Position  \\\n",
      "760  03/06/2020 20:12:51  40.0      M     Köln  Java Developer junior   \n",
      "761  28/07/2020 04:03:13   NaN      M     Köln      E.g. C# Developer   \n",
      "762  28/07/2020 04:03:20   NaN      M     Köln      E.g. C# Developer   \n",
      "763  26/08/2020 09:06:44   NaN    NaN      NaN                    NaN   \n",
      "764  21/09/2020 01:47:10  31.0      F  München                    Pm    \n",
      "\n",
      "     Years of experience Your level  Current Salary  Salary one year ago  \\\n",
      "760                  1.0     Junior         44000.0              40000.0   \n",
      "761                  1.0     Junior         45000.0              40000.0   \n",
      "762                  1.0     Junior         45000.0              40000.0   \n",
      "763                  NaN        NaN             NaN                  NaN   \n",
      "764                 10.0     Senior        110000.0                  NaN   \n",
      "\n",
      "     Salary two years ago Are you getting any Stock Options?  \\\n",
      "760               40000.0                                Yes   \n",
      "761               40000.0                                Yes   \n",
      "762               40000.0                                Yes   \n",
      "763                   NaN                                NaN   \n",
      "764                   NaN                                 No   \n",
      "\n",
      "    Main language at work Company size Company type  \n",
      "760               Deutsch        10-50      Product  \n",
      "761               Deutsch        10-50      Product  \n",
      "762               Deutsch        10-50      Product  \n",
      "763                   NaN          NaN          NaN  \n",
      "764               English        1000+      Product  \n"
     ]
    }
   ],
   "source": [
    "# Last 5\n",
    "print(df_2018.tail())"
   ]
  },
  {
   "attachments": {},
   "cell_type": "markdown",
   "metadata": {},
   "source": [
    "Since our first entry is at index 0, we have 764 entries in total."
   ]
  }
 ],
 "metadata": {
  "kernelspec": {
   "display_name": "Python 3",
   "language": "python",
   "name": "python3"
  },
  "language_info": {
   "codemirror_mode": {
    "name": "ipython",
    "version": 3
   },
   "file_extension": ".py",
   "mimetype": "text/x-python",
   "name": "python",
   "nbconvert_exporter": "python",
   "pygments_lexer": "ipython3",
   "version": "3.11.2"
  },
  "orig_nbformat": 4,
  "vscode": {
   "interpreter": {
    "hash": "74cc819deff76c29e4928f7ff26e3eddcbba8fed33adfaaa19de16534a73accc"
   }
  }
 },
 "nbformat": 4,
 "nbformat_minor": 2
}
